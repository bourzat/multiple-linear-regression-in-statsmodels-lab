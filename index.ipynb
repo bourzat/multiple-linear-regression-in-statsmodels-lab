{
 "cells": [
  {
   "cell_type": "markdown",
   "metadata": {},
   "source": [
    "# Multiple Linear Regression in Statsmodels - Lab"
   ]
  },
  {
   "cell_type": "markdown",
   "metadata": {},
   "source": [
    "## Introduction\n",
    "In this lab, you'll practice fitting a multiple linear regression model on the Ames Housing dataset!"
   ]
  },
  {
   "cell_type": "markdown",
   "metadata": {},
   "source": [
    "## Objectives\n",
    "You will be able to:\n",
    "* Determine if it is necessary to perform normalization/standardization for a specific model or set of data\n",
    "* Use standardization/normalization on features of a dataset\n",
    "* Identify if it is necessary to perform log transformations on a set of features\n",
    "* Perform log transformations on different features of a dataset\n",
    "* Use statsmodels to fit a multiple linear regression model\n",
    "* Evaluate a linear regression model by using statistical performance metrics pertaining to overall model and specific parameters\n"
   ]
  },
  {
   "cell_type": "markdown",
   "metadata": {},
   "source": [
    "## The Ames Housing Data"
   ]
  },
  {
   "cell_type": "markdown",
   "metadata": {},
   "source": [
    "Using the specified continuous and categorical features, preprocess your data to prepare for modeling:\n",
    "* Split off and one hot encode the categorical features of interest\n",
    "* Log and scale the selected continuous features"
   ]
  },
  {
   "cell_type": "code",
   "execution_count": null,
   "metadata": {},
   "outputs": [],
   "source": [
    "import pandas as pd\n",
    "import numpy as np\n",
    "\n",
    "ames = pd.read_csv('ames.csv')\n",
    "\n",
    "continuous = ['LotArea', '1stFlrSF', 'GrLivArea', 'SalePrice']\n",
    "categoricals = ['BldgType', 'KitchenQual', 'SaleType', 'MSZoning', 'Street', 'Neighborhood']\n"
   ]
  },
  {
   "cell_type": "markdown",
   "metadata": {},
   "source": [
    "## Continuous Features"
   ]
  },
  {
   "cell_type": "code",
   "execution_count": null,
   "metadata": {},
   "outputs": [],
   "source": [
    "# Log transform and normalize\n",
    "import pandas as pd\n",
    "import numpy as np\n",
    "from sklearn.preprocessing import StandardScaler\n",
    "from sklearn.compose import ColumnTransformer\n",
    "from sklearn.preprocessing import OneHotEncoder\n",
    "\n",
    "# Load the dataset\n",
    "ames = pd.read_csv('ames.csv')\n",
    "\n",
    "# Define continuous and categorical features\n",
    "continuous = ['LotArea', '1stFlrSF', 'GrLivArea', 'SalePrice']\n",
    "categoricals = ['BldgType', 'KitchenQual', 'SaleType', 'MSZoning', 'Street', 'Neighborhood']\n",
    "\n",
    "# Log transform continuous features\n",
    "ames_log = ames.copy()\n",
    "ames_log[continuous] = np.log1p(ames_log[continuous])\n",
    "\n",
    "# Scale the log-transformed continuous features\n",
    "scaler = StandardScaler()\n",
    "ames_log[continuous] = scaler.fit_transform(ames_log[continuous])\n"
   ]
  },
  {
   "cell_type": "markdown",
   "metadata": {},
   "source": [
    "## Categorical Features"
   ]
  },
  {
   "cell_type": "code",
   "execution_count": null,
   "metadata": {},
   "outputs": [],
   "source": [
    "# One hot encode categoricals\n",
    "# One hot encode categorical features\n",
    "encoder = OneHotEncoder(drop='first')\n",
    "cat_transformed = encoder.fit_transform(ames_log[categoricals])\n",
    "cat_columns = encoder.get_feature_names(categoricals)\n"
   ]
  },
  {
   "cell_type": "markdown",
   "metadata": {},
   "source": [
    "## Combine Categorical and Continuous Features"
   ]
  },
  {
   "cell_type": "code",
   "execution_count": null,
   "metadata": {},
   "outputs": [],
   "source": [
    "# combine features into a single dataframe called preprocessed\n",
    "\n",
    "\n",
    "# Combine categorical and scaled continuous features\n",
    "ames_preprocessed = pd.concat([ames_log.drop(categoricals, axis=1), pd.DataFrame(cat_transformed, columns=cat_columns)], axis=1)\n"
   ]
  },
  {
   "cell_type": "markdown",
   "metadata": {},
   "source": [
    "## Run a linear model with SalePrice as the target variable in statsmodels"
   ]
  },
  {
   "cell_type": "code",
   "execution_count": null,
   "metadata": {},
   "outputs": [],
   "source": [
    "# Your code here\n",
    "import statsmodels.api as sm\n",
    "\n",
    "# Prepare the target variable and predictors\n",
    "X = ames_preprocessed.drop('SalePrice', axis=1)\n",
    "y = ames_preprocessed['SalePrice']\n",
    "\n",
    "# Add constant to the predictors matrix\n",
    "X = sm.add_constant(X)\n",
    "\n",
    "# Fit the model\n",
    "model = sm.OLS(y, X).fit()\n",
    "\n",
    "# Print model summary\n",
    "print(model.summary())\n"
   ]
  },
  {
   "cell_type": "markdown",
   "metadata": {},
   "source": [
    "## Run the same model in scikit-learn"
   ]
  },
  {
   "cell_type": "code",
   "execution_count": null,
   "metadata": {},
   "outputs": [],
   "source": [
    "# Your code here - Check that the coefficients and intercept are the same as those from Statsmodels\n",
    "from sklearn.linear_model import LinearRegression\n",
    "\n",
    "# Fit the model in scikit-learn\n",
    "model_sklearn = LinearRegression()\n",
    "model_sklearn.fit(X, y)\n",
    "\n",
    "# Print coefficients and intercept\n",
    "print(\"Intercept (Statsmodels):\", model.params['const'])\n",
    "print(\"Intercept (Scikit-Learn):\", model_sklearn.intercept_)\n",
    "\n",
    "# Coefficients\n",
    "coefficients = pd.DataFrame({\n",
    "    'Variable': X.columns,\n",
    "    'Coefficient (Statsmodels)': model.params.values,\n",
    "    'Coefficient (Scikit-Learn)': model_sklearn.coef_\n",
    "})\n",
    "print(coefficients)\n"
   ]
  },
  {
   "cell_type": "markdown",
   "metadata": {},
   "source": [
    "## Predict the house price given the following characteristics (before manipulation!!)\n",
    "\n",
    "Make sure to transform your variables as needed!\n",
    "\n",
    "- LotArea: 14977\n",
    "- 1stFlrSF: 1976\n",
    "- GrLivArea: 1976\n",
    "- BldgType: 1Fam\n",
    "- KitchenQual: Gd\n",
    "- SaleType: New\n",
    "- MSZoning: RL\n",
    "- Street: Pave\n",
    "- Neighborhood: NridgHt"
   ]
  },
  {
   "cell_type": "code",
   "execution_count": null,
   "metadata": {},
   "outputs": [],
   "source": [
    "# Your code here - predict the house price given the following characteristics\n",
    "# Create a new data point for prediction\n",
    "new_data = pd.DataFrame({\n",
    "    'LotArea': [14977],\n",
    "    '1stFlrSF': [1976],\n",
    "    'GrLivArea': [1976],\n",
    "    'BldgType': ['1Fam'],\n",
    "    'KitchenQual': ['Gd'],\n",
    "    'SaleType': ['New'],\n",
    "    'MSZoning': ['RL'],\n",
    "    'Street': ['Pave'],\n",
    "    'Neighborhood': ['NridgHt']\n",
    "})\n",
    "\n",
    "# Log transform and scale the continuous features\n",
    "new_data[continuous[:-1]] = np.log1p(new_data[continuous[:-1]])\n",
    "new_data[continuous[:-1]] = scaler.transform(new_data[continuous[:-1]])\n",
    "\n",
    "# One hot encode categorical features\n",
    "new_data_encoded = encoder.transform(new_data[categoricals])\n",
    "new_data_cat_columns = encoder.get_feature_names(categoricals)\n",
    "new_data_processed = pd.concat([new_data.drop(categoricals, axis=1), pd.DataFrame(new_data_encoded, columns=new_data_cat_columns)], axis=1)\n",
    "\n",
    "# Add constant for intercept\n",
    "new_data_processed = sm.add_constant(new_data_processed)\n",
    "\n",
    "# Predict using statsmodels model\n",
    "predicted_price = model.predict(new_data_processed)\n",
    "\n",
    "print(\"Predicted SalePrice:\", predicted_price[0])\n"
   ]
  },
  {
   "cell_type": "markdown",
   "metadata": {},
   "source": [
    "## Summary\n",
    "Congratulations! You pre-processed the Ames Housing data using scaling and standardization. You also fitted your first multiple linear regression model on the Ames Housing data using statsmodels and scikit-learn!"
   ]
  }
 ],
 "metadata": {
  "kernelspec": {
   "display_name": "Python (learn-env)",
   "language": "python",
   "name": "learn-env"
  },
  "language_info": {
   "codemirror_mode": {
    "name": "ipython",
    "version": 3
   },
   "file_extension": ".py",
   "mimetype": "text/x-python",
   "name": "python",
   "nbconvert_exporter": "python",
   "pygments_lexer": "ipython3",
   "version": "3.9.19"
  }
 },
 "nbformat": 4,
 "nbformat_minor": 4
}
